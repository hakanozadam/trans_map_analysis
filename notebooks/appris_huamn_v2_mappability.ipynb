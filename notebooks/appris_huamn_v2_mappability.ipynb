{
 "cells": [
  {
   "cell_type": "markdown",
   "metadata": {},
   "source": [
    "# Mappabillity Analysis of the Human Transcriptome v2\n",
    "\n",
    "Here we try to answer the following questions:\n",
    "\n",
    "**Which nucleotides of the transcriptome are mappable with decent confidence?**\n",
    "\n",
    "**Which / how many genes can we map with decent confidence?**\n",
    "\n",
    "We measure the *confidence* in terms of the mapping quality.\n",
    "\n",
    "We try to answer the above questions for each gene, for each nucleotide position, and for the read lengths from 15 to 40.\n",
    "\n",
    "We assume that the reads do not have any sequencing errors.\n",
    "\n",
    "## Setup\n",
    "\n",
    "**Reference:** Appris Human Transcriptome Version 2\n",
    "\n",
    "**Mapq Threshold:** 10. We use `samtools view -q 10` to filter the reads mapped to the transcriptome.\n",
    "\n",
    "**Read Length Range:** 15:40\n",
    "\n",
    "**Read Generation:**\n",
    " For each gene, for each nucleotide position i, for each length L in 15,16,...,40, we generated reads from the nucleotide positions\n",
    " `[i:i+L]` where i is inclusive but i+L is not. Wemapped these reads to the transcriptome reference using RiboFlow.\n",
    "\n",
    "## Summary of Findings\n",
    "\n",
    "Shorter reads (length = 15 & 20) suffer from mappability more, compared to the reads of length 25 or longer. For example, there are only 3 genes with CDS coverage ratio >= .95 for length 15. This number is 14348 for the read length 30.\n",
    "\n",
    "Even for longer reads, a significant number of genes (~2000) can't be mapped to cover 80% of the transcriptome. For example, for read length 35, there are 17570 genes with CDS coverage ratio >= 0.7.\n",
    "\n",
    "We focus on coverage of the CDS region in our analysis. The entire transcriptome coverage can easily be obtained."
   ]
  },
  {
   "cell_type": "markdown",
   "metadata": {},
   "source": [
    "## Mapping Statistics"
   ]
  },
  {
   "cell_type": "code",
   "execution_count": 1,
   "metadata": {},
   "outputs": [],
   "source": [
    "import pandas as pd\n",
    "import numpy as np"
   ]
  },
  {
   "cell_type": "code",
   "execution_count": 2,
   "metadata": {},
   "outputs": [
    {
     "data": {
      "text/html": [
       "<style  type=\"text/css\" >\n",
       "</style><table id=\"T_99605cae_311d_11eb_8da7_0242bcf7f744\" ><thead>    <tr>        <th class=\"blank level0\" ></th>        <th class=\"col_heading level0 col0\" >appris_reads</th>    </tr></thead><tbody>\n",
       "                <tr>\n",
       "                        <th id=\"T_99605cae_311d_11eb_8da7_0242bcf7f744level0_row0\" class=\"row_heading level0 row0\" >total_reads</th>\n",
       "                        <td id=\"T_99605cae_311d_11eb_8da7_0242bcf7f744row0_col0\" class=\"data row0 col0\" >1819421136.0</td>\n",
       "            </tr>\n",
       "            <tr>\n",
       "                        <th id=\"T_99605cae_311d_11eb_8da7_0242bcf7f744level0_row1\" class=\"row_heading level0 row1\" >clipped_reads</th>\n",
       "                        <td id=\"T_99605cae_311d_11eb_8da7_0242bcf7f744row1_col0\" class=\"data row1 col0\" >1819421136.0</td>\n",
       "            </tr>\n",
       "            <tr>\n",
       "                        <th id=\"T_99605cae_311d_11eb_8da7_0242bcf7f744level0_row2\" class=\"row_heading level0 row2\" >clipped_reads_%</th>\n",
       "                        <td id=\"T_99605cae_311d_11eb_8da7_0242bcf7f744row2_col0\" class=\"data row2 col0\" >100.0</td>\n",
       "            </tr>\n",
       "            <tr>\n",
       "                        <th id=\"T_99605cae_311d_11eb_8da7_0242bcf7f744level0_row3\" class=\"row_heading level0 row3\" >filtered_out</th>\n",
       "                        <td id=\"T_99605cae_311d_11eb_8da7_0242bcf7f744row3_col0\" class=\"data row3 col0\" >1506916.0</td>\n",
       "            </tr>\n",
       "            <tr>\n",
       "                        <th id=\"T_99605cae_311d_11eb_8da7_0242bcf7f744level0_row4\" class=\"row_heading level0 row4\" >filtered_out_%</th>\n",
       "                        <td id=\"T_99605cae_311d_11eb_8da7_0242bcf7f744row4_col0\" class=\"data row4 col0\" >0.1</td>\n",
       "            </tr>\n",
       "            <tr>\n",
       "                        <th id=\"T_99605cae_311d_11eb_8da7_0242bcf7f744level0_row5\" class=\"row_heading level0 row5\" >filter_kept</th>\n",
       "                        <td id=\"T_99605cae_311d_11eb_8da7_0242bcf7f744row5_col0\" class=\"data row5 col0\" >1817914220.0</td>\n",
       "            </tr>\n",
       "            <tr>\n",
       "                        <th id=\"T_99605cae_311d_11eb_8da7_0242bcf7f744level0_row6\" class=\"row_heading level0 row6\" >filter_kept_%</th>\n",
       "                        <td id=\"T_99605cae_311d_11eb_8da7_0242bcf7f744row6_col0\" class=\"data row6 col0\" >99.9</td>\n",
       "            </tr>\n",
       "            <tr>\n",
       "                        <th id=\"T_99605cae_311d_11eb_8da7_0242bcf7f744level0_row7\" class=\"row_heading level0 row7\" >transcriptome_aligned_once</th>\n",
       "                        <td id=\"T_99605cae_311d_11eb_8da7_0242bcf7f744row7_col0\" class=\"data row7 col0\" >1473300405.0</td>\n",
       "            </tr>\n",
       "            <tr>\n",
       "                        <th id=\"T_99605cae_311d_11eb_8da7_0242bcf7f744level0_row8\" class=\"row_heading level0 row8\" >transcriptome_aligned_once_%</th>\n",
       "                        <td id=\"T_99605cae_311d_11eb_8da7_0242bcf7f744row8_col0\" class=\"data row8 col0\" >81.0</td>\n",
       "            </tr>\n",
       "            <tr>\n",
       "                        <th id=\"T_99605cae_311d_11eb_8da7_0242bcf7f744level0_row9\" class=\"row_heading level0 row9\" >transcriptome_aligned_many</th>\n",
       "                        <td id=\"T_99605cae_311d_11eb_8da7_0242bcf7f744row9_col0\" class=\"data row9 col0\" >344613815.0</td>\n",
       "            </tr>\n",
       "            <tr>\n",
       "                        <th id=\"T_99605cae_311d_11eb_8da7_0242bcf7f744level0_row10\" class=\"row_heading level0 row10\" >transcriptome_aligned_many_%</th>\n",
       "                        <td id=\"T_99605cae_311d_11eb_8da7_0242bcf7f744row10_col0\" class=\"data row10 col0\" >19.0</td>\n",
       "            </tr>\n",
       "            <tr>\n",
       "                        <th id=\"T_99605cae_311d_11eb_8da7_0242bcf7f744level0_row11\" class=\"row_heading level0 row11\" >transcriptome_total_aligned</th>\n",
       "                        <td id=\"T_99605cae_311d_11eb_8da7_0242bcf7f744row11_col0\" class=\"data row11 col0\" >1817914220.0</td>\n",
       "            </tr>\n",
       "            <tr>\n",
       "                        <th id=\"T_99605cae_311d_11eb_8da7_0242bcf7f744level0_row12\" class=\"row_heading level0 row12\" >transcriptome_total_aligned_%</th>\n",
       "                        <td id=\"T_99605cae_311d_11eb_8da7_0242bcf7f744row12_col0\" class=\"data row12 col0\" >100.0</td>\n",
       "            </tr>\n",
       "            <tr>\n",
       "                        <th id=\"T_99605cae_311d_11eb_8da7_0242bcf7f744level0_row13\" class=\"row_heading level0 row13\" >transcriptome_unaligned</th>\n",
       "                        <td id=\"T_99605cae_311d_11eb_8da7_0242bcf7f744row13_col0\" class=\"data row13 col0\" >0.0</td>\n",
       "            </tr>\n",
       "            <tr>\n",
       "                        <th id=\"T_99605cae_311d_11eb_8da7_0242bcf7f744level0_row14\" class=\"row_heading level0 row14\" >transcriptome_unaligned_%</th>\n",
       "                        <td id=\"T_99605cae_311d_11eb_8da7_0242bcf7f744row14_col0\" class=\"data row14 col0\" >0.0</td>\n",
       "            </tr>\n",
       "            <tr>\n",
       "                        <th id=\"T_99605cae_311d_11eb_8da7_0242bcf7f744level0_row15\" class=\"row_heading level0 row15\" >qpass_aligned_reads</th>\n",
       "                        <td id=\"T_99605cae_311d_11eb_8da7_0242bcf7f744row15_col0\" class=\"data row15 col0\" >1672891110.0</td>\n",
       "            </tr>\n",
       "            <tr>\n",
       "                        <th id=\"T_99605cae_311d_11eb_8da7_0242bcf7f744level0_row16\" class=\"row_heading level0 row16\" >qpass_aligned_reads_%</th>\n",
       "                        <td id=\"T_99605cae_311d_11eb_8da7_0242bcf7f744row16_col0\" class=\"data row16 col0\" >92.0</td>\n",
       "            </tr>\n",
       "            <tr>\n",
       "                        <th id=\"T_99605cae_311d_11eb_8da7_0242bcf7f744level0_row17\" class=\"row_heading level0 row17\" >after_dedup</th>\n",
       "                        <td id=\"T_99605cae_311d_11eb_8da7_0242bcf7f744row17_col0\" class=\"data row17 col0\" >1672891110.0</td>\n",
       "            </tr>\n",
       "            <tr>\n",
       "                        <th id=\"T_99605cae_311d_11eb_8da7_0242bcf7f744level0_row18\" class=\"row_heading level0 row18\" >after_dedup_%</th>\n",
       "                        <td id=\"T_99605cae_311d_11eb_8da7_0242bcf7f744row18_col0\" class=\"data row18 col0\" >100.0</td>\n",
       "            </tr>\n",
       "    </tbody></table>"
      ],
      "text/plain": [
       "<pandas.io.formats.style.Styler at 0x7fc79a365240>"
      ]
     },
     "execution_count": 2,
     "metadata": {},
     "output_type": "execute_result"
    }
   ],
   "source": [
    "stats_file = \"../stats_files/appris_human_v2_stats.csv\"\n",
    "stats_df = pd.read_csv(stats_file, index_col=0)\n",
    "stats_df.style.format({'appris_reads': '{:.1f}'})"
   ]
  },
  {
   "cell_type": "code",
   "execution_count": 3,
   "metadata": {},
   "outputs": [],
   "source": [
    "import ribopy\n",
    "from ribopy import Ribo\n",
    "from ribopy.core.get_gadgets import get_region_boundaries, get_reference_names\n",
    "\n",
    "import matplotlib.pyplot as plt\n",
    "\n",
    "%matplotlib inline"
   ]
  },
  {
   "cell_type": "code",
   "execution_count": 4,
   "metadata": {},
   "outputs": [
    {
     "data": {
      "text/html": [
       "\n",
       "<style>\n",
       ".output_png {\n",
       "    display: table-cell;\n",
       "    text-align: center;\n",
       "    vertical-align: middle;\n",
       "}\n",
       "</style>\n"
      ],
      "text/plain": [
       "<IPython.core.display.HTML object>"
      ]
     },
     "execution_count": 4,
     "metadata": {},
     "output_type": "execute_result"
    }
   ],
   "source": [
    "# Some formatting forthe rest of the notebook\n",
    "from IPython.core.display import HTML\n",
    "HTML(\"\"\"\n",
    "<style>\n",
    ".output_png {\n",
    "    display: table-cell;\n",
    "    text-align: center;\n",
    "    vertical-align: middle;\n",
    "}\n",
    "</style>\n",
    "\"\"\")"
   ]
  },
  {
   "cell_type": "code",
   "execution_count": 5,
   "metadata": {},
   "outputs": [
    {
     "name": "stdout",
     "output_type": "stream",
     "text": [
      "Ribo File Info:\n",
      "---------------\n",
      "Ribo File Version : 1.0\n",
      "RiboPy Version    : 0.0.1\n",
      "Creation Time     : 2020-11-23 14:31:15\n",
      "Reference         : appris-v2\n",
      "Min Read Length   : 15\n",
      "Max Read Length   : 40\n",
      "Metagene Radius   : 50\n",
      "Left Span         : 35\n",
      "Right Span        : 10\n",
      "\n",
      "Library:\n",
      "-------- \n",
      "Name               Reads  Coverage  RNA-Seq  Metadata\n",
      "appris_reads  1672891110         *                   \n"
     ]
    }
   ],
   "source": [
    "ribo_path   = \"../ribo/appris_human_v2.ribo\"\n",
    "ribo_object = Ribo(ribo_path, alias = ribopy.api.alias.apris_human_alias)\n",
    "ribo_object.print_info()"
   ]
  },
  {
   "cell_type": "code",
   "execution_count": 6,
   "metadata": {},
   "outputs": [],
   "source": [
    "def get_coverage_at_length(ribo, experiment, length):\n",
    "    return ribo.get_coverage(\n",
    "                experiment  = experiment, \n",
    "                alias       = True,\n",
    "                range_lower = length,\n",
    "                range_upper = length)\n",
    "\n",
    "coverage_data = dict()\n",
    "\n",
    "length_list = list( range(15,45, 5) )\n",
    "\n",
    "for i in length_list:\n",
    "    coverage_data[i] = get_coverage_at_length(\n",
    "                          ribo_object, \"appris_reads\", i)\n"
   ]
  },
  {
   "cell_type": "code",
   "execution_count": 7,
   "metadata": {},
   "outputs": [
    {
     "data": {
      "text/plain": [
       "[15, 20, 25, 30, 35, 40]"
      ]
     },
     "execution_count": 7,
     "metadata": {},
     "output_type": "execute_result"
    }
   ],
   "source": [
    "length_list"
   ]
  },
  {
   "cell_type": "code",
   "execution_count": 8,
   "metadata": {},
   "outputs": [
    {
     "data": {
      "text/plain": [
       "array([1, 1, 1, ..., 0, 0, 0], dtype=uint16)"
      ]
     },
     "execution_count": 8,
     "metadata": {},
     "output_type": "execute_result"
    }
   ],
   "source": [
    "coverage_data[30][\"GAPDH-205\"]"
   ]
  },
  {
   "cell_type": "code",
   "execution_count": 9,
   "metadata": {},
   "outputs": [
    {
     "data": {
      "text/plain": [
       "19736"
      ]
     },
     "execution_count": 9,
     "metadata": {},
     "output_type": "execute_result"
    }
   ],
   "source": [
    "len(coverage_data[30])"
   ]
  },
  {
   "cell_type": "code",
   "execution_count": 10,
   "metadata": {},
   "outputs": [],
   "source": [
    "# Get the shortened version of the transcript names\n",
    "#\n",
    "ribo_object.transcript_lengths\n",
    "\n",
    "transcript_lengths = {}\n",
    "\n",
    "for long_name in ribo_object.transcript_lengths.keys():\n",
    "    short_name = ribopy.api.alias.apris_human_alias(long_name)\n",
    "    transcript_lengths[short_name] = ribo_object.transcript_lengths[long_name]\n"
   ]
  },
  {
   "cell_type": "code",
   "execution_count": 11,
   "metadata": {},
   "outputs": [],
   "source": [
    "def find_coverage_percentages(coverage_dict):\n",
    "    \"\"\"\n",
    "    Assumes each entry in the coverage is 0 or 1.\n",
    "    It determines the raio of covered nucleotides in each transcript\n",
    "    So it returns a dict of the form:\n",
    "        \n",
    "    \"\"\"\n",
    "    result = dict()\n",
    "    \n",
    "    for gene, coverage in coverage_dict.items():\n",
    "        result[gene] = np.mean(coverage)\n",
    "        \n",
    "    return result\n",
    "        "
   ]
  },
  {
   "cell_type": "code",
   "execution_count": 12,
   "metadata": {},
   "outputs": [],
   "source": [
    "coverage_ratios     = dict()\n",
    "for i in length_list:\n",
    "    coverage_ratios[i] = find_coverage_percentages(coverage_data[i])"
   ]
  },
  {
   "cell_type": "markdown",
   "metadata": {},
   "source": [
    "### Transcript Coverage Ratios Density for Length 30"
   ]
  },
  {
   "cell_type": "code",
   "execution_count": 13,
   "metadata": {},
   "outputs": [
    {
     "data": {
      "image/png": "[encoded data removed]",
      "text/plain": [
       "<Figure size 432x288 with 1 Axes>"
      ]
     },
     "metadata": {
      "needs_background": "light"
     },
     "output_type": "display_data"
    }
   ],
   "source": [
    "pd.DataFrame(  (np.add(list(coverage_ratios[30].values()), 0.0) ) ).plot(kind='density');"
   ]
  },
  {
   "cell_type": "code",
   "execution_count": 14,
   "metadata": {},
   "outputs": [
    {
     "data": {
      "image/png": "[encoded data removed]",
      "text/plain": [
       "<Figure size 1440x720 with 1 Axes>"
      ]
     },
     "metadata": {
      "needs_background": "light"
     },
     "output_type": "display_data"
    }
   ],
   "source": [
    "fig, ax = plt.subplots(figsize=(20, 10))\n",
    "\n",
    "n, bins, patches = ax.hist(coverage_ratios[30].values(), bins = 70, density=False, histtype='step',\n",
    "                           cumulative=True, label='Empirical')\n",
    "\n",
    "ax.grid(True)"
   ]
  },
  {
   "cell_type": "code",
   "execution_count": 15,
   "metadata": {},
   "outputs": [],
   "source": [
    "region_boundaries = get_region_boundaries(ribo_object._handle)\n",
    "reference_names   = list(map(ribopy.api.alias.apris_human_alias , get_reference_names(ribo_object._handle) ))"
   ]
  },
  {
   "cell_type": "code",
   "execution_count": 16,
   "metadata": {},
   "outputs": [
    {
     "data": {
      "text/plain": [
       "([(0, 226), (226, 2632), (2632, 3050)],\n",
       " [(0, 115), (115, 2617), (2617, 3793)],\n",
       " [(0, 47), (47, 956), (956, 1257)],\n",
       " [(0, 52), (52, 1852), (1852, 2114)],\n",
       " [(0, 376), (376, 1018), (1018, 2154)])"
      ]
     },
     "execution_count": 16,
     "metadata": {},
     "output_type": "execute_result"
    }
   ],
   "source": [
    "region_boundaries[20:25]"
   ]
  },
  {
   "cell_type": "code",
   "execution_count": 17,
   "metadata": {},
   "outputs": [
    {
     "data": {
      "text/plain": [
       "['CTLA4-205', 'ICOS-201', 'PARD3B-204', 'NRP2-203', 'INO80D-201']"
      ]
     },
     "execution_count": 17,
     "metadata": {},
     "output_type": "execute_result"
    }
   ],
   "source": [
    "reference_names[3000:3005]"
   ]
  },
  {
   "cell_type": "code",
   "execution_count": 18,
   "metadata": {},
   "outputs": [],
   "source": [
    "def get_cds_coverage_ratios(reference_names, region_boundaries, coverage_data):\n",
    "    \"\"\"\n",
    "    To be completed!!!\n",
    "    \"\"\"\n",
    "    result               = dict()\n",
    "    names_and_boundaries = zip(reference_names, region_boundaries)\n",
    "    \n",
    "    for gene, boundaries in names_and_boundaries:\n",
    "        gene_coverage_vector = coverage_data[gene]\n",
    "        cds_start            = boundaries[1][0]\n",
    "        cds_end              = boundaries[1][1]\n",
    "        cds_length           = cds_end - cds_start\n",
    "        total_cds_coverage   = np.sum(gene_coverage_vector[cds_start:cds_end]) \n",
    "        cds_coverage_ratio   = total_cds_coverage / cds_length\n",
    "        result[gene]         = cds_coverage_ratio\n",
    "        \n",
    "    return result"
   ]
  },
  {
   "cell_type": "code",
   "execution_count": 19,
   "metadata": {
    "code_folding": [
     104
    ]
   },
   "outputs": [],
   "source": [
    "cds_ratios = dict()\n",
    "\n",
    "for i in length_list:\n",
    "    cds_ratios[i] = get_cds_coverage_ratios(reference_names, \n",
    "                        region_boundaries, \n",
    "                        coverage_data[i])"
   ]
  },
  {
   "cell_type": "code",
   "execution_count": null,
   "metadata": {},
   "outputs": [],
   "source": []
  },
  {
   "cell_type": "code",
   "execution_count": 20,
   "metadata": {},
   "outputs": [
    {
     "data": {
      "text/plain": [
       "Text(0, 0.5, 'Number of genes with ratio <= x ')"
      ]
     },
     "execution_count": 20,
     "metadata": {},
     "output_type": "execute_result"
    },
    {
     "data": {
      "image/png": "[encoded data removed]",
      "text/plain": [
       "<Figure size 1440x720 with 1 Axes>"
      ]
     },
     "metadata": {
      "needs_background": "light"
     },
     "output_type": "display_data"
    }
   ],
   "source": [
    "fig, ax = plt.subplots(figsize=(20, 10))\n",
    "\n",
    "ax.set_title('Cumulative CDS Ratios Length = 20')\n",
    "\n",
    "n, bins, patches = ax.hist(cds_ratios[20].values(), \n",
    "                           bins       = 100, \n",
    "                           density    = False, \n",
    "                           histtype   = 'step',\n",
    "                           cumulative = True, \n",
    "                           label      = 'Empirical')\n",
    "ax.grid(True)\n",
    "\n",
    "ax.set_xlabel('CDS coverage ratio')\n",
    "ax.set_ylabel('Number of genes with ratio <= x ')"
   ]
  },
  {
   "cell_type": "code",
   "execution_count": 21,
   "metadata": {},
   "outputs": [
    {
     "data": {
      "text/plain": [
       "Text(0, 0.5, 'Number of genes with ratio <= x ')"
      ]
     },
     "execution_count": 21,
     "metadata": {},
     "output_type": "execute_result"
    },
    {
     "data": {
      "image/png": "[encoded data removed]",
      "text/plain": [
       "<Figure size 1440x720 with 1 Axes>"
      ]
     },
     "metadata": {
      "needs_background": "light"
     },
     "output_type": "display_data"
    }
   ],
   "source": [
    "fig, ax = plt.subplots(figsize=(20, 10))\n",
    "\n",
    "ax.set_title('Cumulative CDS Ratios Length = 30')\n",
    "\n",
    "n, bins, patches = ax.hist(cds_ratios[30].values(), \n",
    "                           bins       = 100, \n",
    "                           density    = False, \n",
    "                           histtype   = 'step',\n",
    "                           cumulative = True, \n",
    "                           label      = 'Empirical')\n",
    "ax.grid(True)\n",
    "\n",
    "ax.set_xlabel('CDS coverage ratio')\n",
    "ax.set_ylabel('Number of genes with ratio <= x ')"
   ]
  },
  {
   "cell_type": "code",
   "execution_count": 22,
   "metadata": {},
   "outputs": [],
   "source": [
    "def count_threshold(array, threshold):\n",
    "    res = 0\n",
    "    \n",
    "    for i in array:\n",
    "        if i >= threshold:\n",
    "            res += 1\n",
    "            \n",
    "    return res"
   ]
  },
  {
   "cell_type": "code",
   "execution_count": 23,
   "metadata": {},
   "outputs": [],
   "source": [
    "thresholds = [np.round(0.05 * i, decimals = 2) for i in range(21)]"
   ]
  },
  {
   "cell_type": "code",
   "execution_count": 24,
   "metadata": {},
   "outputs": [
    {
     "data": {
      "text/plain": [
       "numpy.float64"
      ]
     },
     "execution_count": 24,
     "metadata": {},
     "output_type": "execute_result"
    }
   ],
   "source": [
    "type(thresholds[0])"
   ]
  },
  {
   "cell_type": "code",
   "execution_count": 25,
   "metadata": {},
   "outputs": [],
   "source": [
    "ratio_threshold_counts = dict()\n",
    "\n",
    "ratio_threshold_counts[\"threshold\"] = thresholds\n",
    "\n",
    "for k in length_list:\n",
    "    ratio_threshold_counts[str(k)] = \\\n",
    "        [ count_threshold(cds_ratios[k].values(), i) for i in thresholds ]\n"
   ]
  },
  {
   "cell_type": "markdown",
   "metadata": {},
   "source": [
    " ## CDS Coverage\n",
    " \n",
    "The numbers 15, 20, 25, 30, 35 indicate the read lengths\n",
    "Except for the \"threshold column\", the number of genes\n",
    "whose cds coverage ratio is >= threshold is given in each entry."
   ]
  },
  {
   "cell_type": "code",
   "execution_count": 26,
   "metadata": {},
   "outputs": [
    {
     "data": {
      "text/html": [
       "<div>\n",
       "<style scoped>\n",
       "    .dataframe tbody tr th:only-of-type {\n",
       "        vertical-align: middle;\n",
       "    }\n",
       "\n",
       "    .dataframe tbody tr th {\n",
       "        vertical-align: top;\n",
       "    }\n",
       "\n",
       "    .dataframe thead th {\n",
       "        text-align: right;\n",
       "    }\n",
       "</style>\n",
       "<table border=\"1\" class=\"dataframe\">\n",
       "  <thead>\n",
       "    <tr style=\"text-align: right;\">\n",
       "      <th></th>\n",
       "      <th>threshold</th>\n",
       "      <th>15</th>\n",
       "      <th>20</th>\n",
       "      <th>25</th>\n",
       "      <th>30</th>\n",
       "      <th>35</th>\n",
       "      <th>40</th>\n",
       "    </tr>\n",
       "  </thead>\n",
       "  <tbody>\n",
       "    <tr>\n",
       "      <th>0</th>\n",
       "      <td>0.00</td>\n",
       "      <td>19736</td>\n",
       "      <td>19736</td>\n",
       "      <td>19736</td>\n",
       "      <td>19736</td>\n",
       "      <td>19736</td>\n",
       "      <td>19736</td>\n",
       "    </tr>\n",
       "    <tr>\n",
       "      <th>1</th>\n",
       "      <td>0.05</td>\n",
       "      <td>18650</td>\n",
       "      <td>18810</td>\n",
       "      <td>18885</td>\n",
       "      <td>18939</td>\n",
       "      <td>18979</td>\n",
       "      <td>19021</td>\n",
       "    </tr>\n",
       "    <tr>\n",
       "      <th>2</th>\n",
       "      <td>0.10</td>\n",
       "      <td>18441</td>\n",
       "      <td>18573</td>\n",
       "      <td>18631</td>\n",
       "      <td>18672</td>\n",
       "      <td>18740</td>\n",
       "      <td>18783</td>\n",
       "    </tr>\n",
       "    <tr>\n",
       "      <th>3</th>\n",
       "      <td>0.15</td>\n",
       "      <td>18267</td>\n",
       "      <td>18434</td>\n",
       "      <td>18486</td>\n",
       "      <td>18535</td>\n",
       "      <td>18576</td>\n",
       "      <td>18609</td>\n",
       "    </tr>\n",
       "    <tr>\n",
       "      <th>4</th>\n",
       "      <td>0.20</td>\n",
       "      <td>18101</td>\n",
       "      <td>18311</td>\n",
       "      <td>18374</td>\n",
       "      <td>18424</td>\n",
       "      <td>18461</td>\n",
       "      <td>18496</td>\n",
       "    </tr>\n",
       "    <tr>\n",
       "      <th>5</th>\n",
       "      <td>0.25</td>\n",
       "      <td>17935</td>\n",
       "      <td>18217</td>\n",
       "      <td>18288</td>\n",
       "      <td>18338</td>\n",
       "      <td>18376</td>\n",
       "      <td>18408</td>\n",
       "    </tr>\n",
       "    <tr>\n",
       "      <th>6</th>\n",
       "      <td>0.30</td>\n",
       "      <td>17758</td>\n",
       "      <td>18117</td>\n",
       "      <td>18198</td>\n",
       "      <td>18244</td>\n",
       "      <td>18291</td>\n",
       "      <td>18330</td>\n",
       "    </tr>\n",
       "    <tr>\n",
       "      <th>7</th>\n",
       "      <td>0.35</td>\n",
       "      <td>17631</td>\n",
       "      <td>17990</td>\n",
       "      <td>18100</td>\n",
       "      <td>18169</td>\n",
       "      <td>18211</td>\n",
       "      <td>18251</td>\n",
       "    </tr>\n",
       "    <tr>\n",
       "      <th>8</th>\n",
       "      <td>0.40</td>\n",
       "      <td>17496</td>\n",
       "      <td>17855</td>\n",
       "      <td>17993</td>\n",
       "      <td>18080</td>\n",
       "      <td>18133</td>\n",
       "      <td>18173</td>\n",
       "    </tr>\n",
       "    <tr>\n",
       "      <th>9</th>\n",
       "      <td>0.45</td>\n",
       "      <td>17327</td>\n",
       "      <td>17740</td>\n",
       "      <td>17891</td>\n",
       "      <td>17974</td>\n",
       "      <td>18047</td>\n",
       "      <td>18095</td>\n",
       "    </tr>\n",
       "    <tr>\n",
       "      <th>10</th>\n",
       "      <td>0.50</td>\n",
       "      <td>17162</td>\n",
       "      <td>17643</td>\n",
       "      <td>17784</td>\n",
       "      <td>17882</td>\n",
       "      <td>17959</td>\n",
       "      <td>18010</td>\n",
       "    </tr>\n",
       "    <tr>\n",
       "      <th>11</th>\n",
       "      <td>0.55</td>\n",
       "      <td>16976</td>\n",
       "      <td>17525</td>\n",
       "      <td>17682</td>\n",
       "      <td>17792</td>\n",
       "      <td>17862</td>\n",
       "      <td>17929</td>\n",
       "    </tr>\n",
       "    <tr>\n",
       "      <th>12</th>\n",
       "      <td>0.60</td>\n",
       "      <td>16751</td>\n",
       "      <td>17415</td>\n",
       "      <td>17574</td>\n",
       "      <td>17692</td>\n",
       "      <td>17774</td>\n",
       "      <td>17844</td>\n",
       "    </tr>\n",
       "    <tr>\n",
       "      <th>13</th>\n",
       "      <td>0.65</td>\n",
       "      <td>16478</td>\n",
       "      <td>17279</td>\n",
       "      <td>17430</td>\n",
       "      <td>17585</td>\n",
       "      <td>17676</td>\n",
       "      <td>17741</td>\n",
       "    </tr>\n",
       "    <tr>\n",
       "      <th>14</th>\n",
       "      <td>0.70</td>\n",
       "      <td>15923</td>\n",
       "      <td>17159</td>\n",
       "      <td>17316</td>\n",
       "      <td>17445</td>\n",
       "      <td>17570</td>\n",
       "      <td>17642</td>\n",
       "    </tr>\n",
       "    <tr>\n",
       "      <th>15</th>\n",
       "      <td>0.75</td>\n",
       "      <td>14346</td>\n",
       "      <td>17028</td>\n",
       "      <td>17211</td>\n",
       "      <td>17327</td>\n",
       "      <td>17432</td>\n",
       "      <td>17532</td>\n",
       "    </tr>\n",
       "    <tr>\n",
       "      <th>16</th>\n",
       "      <td>0.80</td>\n",
       "      <td>10198</td>\n",
       "      <td>16840</td>\n",
       "      <td>17066</td>\n",
       "      <td>17203</td>\n",
       "      <td>17294</td>\n",
       "      <td>17392</td>\n",
       "    </tr>\n",
       "    <tr>\n",
       "      <th>17</th>\n",
       "      <td>0.85</td>\n",
       "      <td>2706</td>\n",
       "      <td>16625</td>\n",
       "      <td>16882</td>\n",
       "      <td>17034</td>\n",
       "      <td>17152</td>\n",
       "      <td>17227</td>\n",
       "    </tr>\n",
       "    <tr>\n",
       "      <th>18</th>\n",
       "      <td>0.90</td>\n",
       "      <td>71</td>\n",
       "      <td>16325</td>\n",
       "      <td>16644</td>\n",
       "      <td>16810</td>\n",
       "      <td>16906</td>\n",
       "      <td>17003</td>\n",
       "    </tr>\n",
       "    <tr>\n",
       "      <th>19</th>\n",
       "      <td>0.95</td>\n",
       "      <td>3</td>\n",
       "      <td>15814</td>\n",
       "      <td>16224</td>\n",
       "      <td>16483</td>\n",
       "      <td>16622</td>\n",
       "      <td>16722</td>\n",
       "    </tr>\n",
       "    <tr>\n",
       "      <th>20</th>\n",
       "      <td>1.00</td>\n",
       "      <td>0</td>\n",
       "      <td>5715</td>\n",
       "      <td>12714</td>\n",
       "      <td>14348</td>\n",
       "      <td>14995</td>\n",
       "      <td>15410</td>\n",
       "    </tr>\n",
       "  </tbody>\n",
       "</table>\n",
       "</div>"
      ],
      "text/plain": [
       "    threshold     15     20     25     30     35     40\n",
       "0        0.00  19736  19736  19736  19736  19736  19736\n",
       "1        0.05  18650  18810  18885  18939  18979  19021\n",
       "2        0.10  18441  18573  18631  18672  18740  18783\n",
       "3        0.15  18267  18434  18486  18535  18576  18609\n",
       "4        0.20  18101  18311  18374  18424  18461  18496\n",
       "5        0.25  17935  18217  18288  18338  18376  18408\n",
       "6        0.30  17758  18117  18198  18244  18291  18330\n",
       "7        0.35  17631  17990  18100  18169  18211  18251\n",
       "8        0.40  17496  17855  17993  18080  18133  18173\n",
       "9        0.45  17327  17740  17891  17974  18047  18095\n",
       "10       0.50  17162  17643  17784  17882  17959  18010\n",
       "11       0.55  16976  17525  17682  17792  17862  17929\n",
       "12       0.60  16751  17415  17574  17692  17774  17844\n",
       "13       0.65  16478  17279  17430  17585  17676  17741\n",
       "14       0.70  15923  17159  17316  17445  17570  17642\n",
       "15       0.75  14346  17028  17211  17327  17432  17532\n",
       "16       0.80  10198  16840  17066  17203  17294  17392\n",
       "17       0.85   2706  16625  16882  17034  17152  17227\n",
       "18       0.90     71  16325  16644  16810  16906  17003\n",
       "19       0.95      3  15814  16224  16483  16622  16722\n",
       "20       1.00      0   5715  12714  14348  14995  15410"
      ]
     },
     "execution_count": 26,
     "metadata": {},
     "output_type": "execute_result"
    }
   ],
   "source": [
    "pd.DataFrame(data = ratio_threshold_counts)"
   ]
  }
 ],
 "metadata": {
  "kernelspec": {
   "display_name": "Python 3",
   "language": "python",
   "name": "python3"
  },
  "language_info": {
   "codemirror_mode": {
    "name": "ipython",
    "version": 3
   },
   "file_extension": ".py",
   "mimetype": "text/x-python",
   "name": "python",
   "nbconvert_exporter": "python",
   "pygments_lexer": "ipython3",
   "version": "3.6.11"
  }
 },
 "nbformat": 4,
 "nbformat_minor": 4
}
