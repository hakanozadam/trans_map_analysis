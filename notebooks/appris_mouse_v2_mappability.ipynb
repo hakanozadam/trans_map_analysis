{
 "cells": [
  {
   "cell_type": "markdown",
   "metadata": {},
   "source": [
    "# Mappabillity Analysis of the Mouse Transcriptome v2\n",
    "\n",
    "Here we try to answer the following questions:\n",
    "\n",
    "**Which nucleotides of the transcriptome are mappable with decent confidence?**\n",
    "\n",
    "**Which / how many genes can we map with decent confidence?**\n",
    "\n",
    "We measure the *confidence* in terms of the mapping quality.\n",
    "\n",
    "We try to answer the above questions for each gene, for each nucleotide position, and for the read lengths from 15 to 40.\n",
    "\n",
    "We assume that the reads do not have any sequencing errors.\n",
    "\n",
    "## Setup\n",
    "\n",
    "**Reference:** Appris Mouse Transcriptome Version 2\n",
    "\n",
    "**Mapq Threshold:** 10. We use `samtools view -q 10` to filter the reads mapped to the transcriptome.\n",
    "\n",
    "**Read Length Range:** 15:40\n",
    "\n",
    "**Read Generation:**\n",
    " For each gene, for each nucleotide position i, for each length L in 15,16,...,40, we generated reads from the nucleotide positions\n",
    " `[i:i+L]` where i is inclusive but i+L is not. Wemapped these reads to the transcriptome reference using RiboFlow.\n",
    "\n",
    "## Summary of Findings\n",
    "\n",
    "Shorter reads (length = 15 & 20) suffer from mappability more, compared to the reads of length 25 or longer. For example, there are only 3 genes with CDS coverage ratio >= .95 for length 15. This number is 14348 for the read length 30.\n",
    "\n",
    "Even for longer reads, a significant number of genes (~2000) can't be mapped to cover 80% of the transcriptome. For example, for read length 35, there are 17570 genes with CDS coverage ratio >= 0.7.\n",
    "\n",
    "We focus on coverage of the CDS region in our analysis. The entire transcriptome coverage can easily be obtained."
   ]
  },
  {
   "cell_type": "markdown",
   "metadata": {},
   "source": [
    "## Mapping Statistics"
   ]
  },
  {
   "cell_type": "code",
   "execution_count": 1,
   "metadata": {},
   "outputs": [],
   "source": [
    "import pandas as pd\n",
    "import numpy as np"
   ]
  },
  {
   "cell_type": "code",
   "execution_count": 2,
   "metadata": {},
   "outputs": [
    {
     "data": {
      "text/html": [
       "<style  type=\"text/css\" >\n",
       "</style><table id=\"T_79052380_3396_11eb_bf80_0242b970dac0\" ><thead>    <tr>        <th class=\"blank level0\" ></th>        <th class=\"col_heading level0 col0\" >appris_reads</th>    </tr></thead><tbody>\n",
       "                <tr>\n",
       "                        <th id=\"T_79052380_3396_11eb_bf80_0242b970dac0level0_row0\" class=\"row_heading level0 row0\" >total_reads</th>\n",
       "                        <td id=\"T_79052380_3396_11eb_bf80_0242b970dac0row0_col0\" class=\"data row0 col0\" >1761348875.0</td>\n",
       "            </tr>\n",
       "            <tr>\n",
       "                        <th id=\"T_79052380_3396_11eb_bf80_0242b970dac0level0_row1\" class=\"row_heading level0 row1\" >clipped_reads</th>\n",
       "                        <td id=\"T_79052380_3396_11eb_bf80_0242b970dac0row1_col0\" class=\"data row1 col0\" >1761348875.0</td>\n",
       "            </tr>\n",
       "            <tr>\n",
       "                        <th id=\"T_79052380_3396_11eb_bf80_0242b970dac0level0_row2\" class=\"row_heading level0 row2\" >clipped_reads_%</th>\n",
       "                        <td id=\"T_79052380_3396_11eb_bf80_0242b970dac0row2_col0\" class=\"data row2 col0\" >100.0</td>\n",
       "            </tr>\n",
       "            <tr>\n",
       "                        <th id=\"T_79052380_3396_11eb_bf80_0242b970dac0level0_row3\" class=\"row_heading level0 row3\" >filtered_out</th>\n",
       "                        <td id=\"T_79052380_3396_11eb_bf80_0242b970dac0row3_col0\" class=\"data row3 col0\" >6417885.0</td>\n",
       "            </tr>\n",
       "            <tr>\n",
       "                        <th id=\"T_79052380_3396_11eb_bf80_0242b970dac0level0_row4\" class=\"row_heading level0 row4\" >filtered_out_%</th>\n",
       "                        <td id=\"T_79052380_3396_11eb_bf80_0242b970dac0row4_col0\" class=\"data row4 col0\" >0.4</td>\n",
       "            </tr>\n",
       "            <tr>\n",
       "                        <th id=\"T_79052380_3396_11eb_bf80_0242b970dac0level0_row5\" class=\"row_heading level0 row5\" >filter_kept</th>\n",
       "                        <td id=\"T_79052380_3396_11eb_bf80_0242b970dac0row5_col0\" class=\"data row5 col0\" >1754930990.0</td>\n",
       "            </tr>\n",
       "            <tr>\n",
       "                        <th id=\"T_79052380_3396_11eb_bf80_0242b970dac0level0_row6\" class=\"row_heading level0 row6\" >filter_kept_%</th>\n",
       "                        <td id=\"T_79052380_3396_11eb_bf80_0242b970dac0row6_col0\" class=\"data row6 col0\" >99.6</td>\n",
       "            </tr>\n",
       "            <tr>\n",
       "                        <th id=\"T_79052380_3396_11eb_bf80_0242b970dac0level0_row7\" class=\"row_heading level0 row7\" >transcriptome_aligned_once</th>\n",
       "                        <td id=\"T_79052380_3396_11eb_bf80_0242b970dac0row7_col0\" class=\"data row7 col0\" >1441704662.0</td>\n",
       "            </tr>\n",
       "            <tr>\n",
       "                        <th id=\"T_79052380_3396_11eb_bf80_0242b970dac0level0_row8\" class=\"row_heading level0 row8\" >transcriptome_aligned_once_%</th>\n",
       "                        <td id=\"T_79052380_3396_11eb_bf80_0242b970dac0row8_col0\" class=\"data row8 col0\" >82.2</td>\n",
       "            </tr>\n",
       "            <tr>\n",
       "                        <th id=\"T_79052380_3396_11eb_bf80_0242b970dac0level0_row9\" class=\"row_heading level0 row9\" >transcriptome_aligned_many</th>\n",
       "                        <td id=\"T_79052380_3396_11eb_bf80_0242b970dac0row9_col0\" class=\"data row9 col0\" >313226168.0</td>\n",
       "            </tr>\n",
       "            <tr>\n",
       "                        <th id=\"T_79052380_3396_11eb_bf80_0242b970dac0level0_row10\" class=\"row_heading level0 row10\" >transcriptome_aligned_many_%</th>\n",
       "                        <td id=\"T_79052380_3396_11eb_bf80_0242b970dac0row10_col0\" class=\"data row10 col0\" >17.9</td>\n",
       "            </tr>\n",
       "            <tr>\n",
       "                        <th id=\"T_79052380_3396_11eb_bf80_0242b970dac0level0_row11\" class=\"row_heading level0 row11\" >transcriptome_total_aligned</th>\n",
       "                        <td id=\"T_79052380_3396_11eb_bf80_0242b970dac0row11_col0\" class=\"data row11 col0\" >1754930830.0</td>\n",
       "            </tr>\n",
       "            <tr>\n",
       "                        <th id=\"T_79052380_3396_11eb_bf80_0242b970dac0level0_row12\" class=\"row_heading level0 row12\" >transcriptome_total_aligned_%</th>\n",
       "                        <td id=\"T_79052380_3396_11eb_bf80_0242b970dac0row12_col0\" class=\"data row12 col0\" >100.0</td>\n",
       "            </tr>\n",
       "            <tr>\n",
       "                        <th id=\"T_79052380_3396_11eb_bf80_0242b970dac0level0_row13\" class=\"row_heading level0 row13\" >transcriptome_unaligned</th>\n",
       "                        <td id=\"T_79052380_3396_11eb_bf80_0242b970dac0row13_col0\" class=\"data row13 col0\" >160.0</td>\n",
       "            </tr>\n",
       "            <tr>\n",
       "                        <th id=\"T_79052380_3396_11eb_bf80_0242b970dac0level0_row14\" class=\"row_heading level0 row14\" >transcriptome_unaligned_%</th>\n",
       "                        <td id=\"T_79052380_3396_11eb_bf80_0242b970dac0row14_col0\" class=\"data row14 col0\" >0.0</td>\n",
       "            </tr>\n",
       "            <tr>\n",
       "                        <th id=\"T_79052380_3396_11eb_bf80_0242b970dac0level0_row15\" class=\"row_heading level0 row15\" >qpass_aligned_reads</th>\n",
       "                        <td id=\"T_79052380_3396_11eb_bf80_0242b970dac0row15_col0\" class=\"data row15 col0\" >1631140338.0</td>\n",
       "            </tr>\n",
       "            <tr>\n",
       "                        <th id=\"T_79052380_3396_11eb_bf80_0242b970dac0level0_row16\" class=\"row_heading level0 row16\" >qpass_aligned_reads_%</th>\n",
       "                        <td id=\"T_79052380_3396_11eb_bf80_0242b970dac0row16_col0\" class=\"data row16 col0\" >93.0</td>\n",
       "            </tr>\n",
       "            <tr>\n",
       "                        <th id=\"T_79052380_3396_11eb_bf80_0242b970dac0level0_row17\" class=\"row_heading level0 row17\" >after_dedup</th>\n",
       "                        <td id=\"T_79052380_3396_11eb_bf80_0242b970dac0row17_col0\" class=\"data row17 col0\" >1631140336.0</td>\n",
       "            </tr>\n",
       "            <tr>\n",
       "                        <th id=\"T_79052380_3396_11eb_bf80_0242b970dac0level0_row18\" class=\"row_heading level0 row18\" >after_dedup_%</th>\n",
       "                        <td id=\"T_79052380_3396_11eb_bf80_0242b970dac0row18_col0\" class=\"data row18 col0\" >100.0</td>\n",
       "            </tr>\n",
       "    </tbody></table>"
      ],
      "text/plain": [
       "<pandas.io.formats.style.Styler at 0x7f30ac07c2b0>"
      ]
     },
     "execution_count": 2,
     "metadata": {},
     "output_type": "execute_result"
    }
   ],
   "source": [
    "stats_file = \"../stats_files/appris_mouse_v2_stats.csv\"\n",
    "stats_df = pd.read_csv(stats_file, index_col=0)\n",
    "stats_df.style.format({'appris_reads': '{:.1f}'})"
   ]
  },
  {
   "cell_type": "code",
   "execution_count": 3,
   "metadata": {},
   "outputs": [],
   "source": [
    "import ribopy\n",
    "from ribopy import Ribo\n",
    "from ribopy.core.get_gadgets import get_region_boundaries, get_reference_names\n",
    "\n",
    "import matplotlib.pyplot as plt\n",
    "\n",
    "%matplotlib inline"
   ]
  },
  {
   "cell_type": "code",
   "execution_count": 4,
   "metadata": {},
   "outputs": [
    {
     "data": {
      "text/html": [
       "\n",
       "<style>\n",
       ".output_png {\n",
       "    display: table-cell;\n",
       "    text-align: center;\n",
       "    vertical-align: middle;\n",
       "}\n",
       "</style>\n"
      ],
      "text/plain": [
       "<IPython.core.display.HTML object>"
      ]
     },
     "execution_count": 4,
     "metadata": {},
     "output_type": "execute_result"
    }
   ],
   "source": [
    "# Some formatting forthe rest of the notebook\n",
    "from IPython.core.display import HTML\n",
    "HTML(\"\"\"\n",
    "<style>\n",
    ".output_png {\n",
    "    display: table-cell;\n",
    "    text-align: center;\n",
    "    vertical-align: middle;\n",
    "}\n",
    "</style>\n",
    "\"\"\")"
   ]
  },
  {
   "cell_type": "code",
   "execution_count": 5,
   "metadata": {},
   "outputs": [
    {
     "name": "stdout",
     "output_type": "stream",
     "text": [
      "Ribo File Info:\n",
      "---------------\n",
      "Ribo File Version : 1.0\n",
      "RiboPy Version    : 0.0.1\n",
      "Creation Time     : 2020-11-30 19:02:50\n",
      "Reference         : apprisi-mouse-v2\n",
      "Min Read Length   : 15\n",
      "Max Read Length   : 40\n",
      "Metagene Radius   : 50\n",
      "Left Span         : 35\n",
      "Right Span        : 10\n",
      "\n",
      "Library:\n",
      "-------- \n",
      "Name               Reads  Coverage  RNA-Seq  Metadata\n",
      "appris_reads  1631140336         *                   \n"
     ]
    }
   ],
   "source": [
    "ribo_path   = \"../ribo/appris_mouse_v2.ribo\"\n",
    "ribo_object = Ribo(ribo_path, alias = ribopy.api.alias.apris_human_alias)\n",
    "ribo_object.print_info()"
   ]
  },
  {
   "cell_type": "code",
   "execution_count": 6,
   "metadata": {},
   "outputs": [],
   "source": [
    "def get_coverage_at_length(ribo, experiment, length):\n",
    "    return ribo.get_coverage(\n",
    "                experiment  = experiment, \n",
    "                alias       = True,\n",
    "                range_lower = length,\n",
    "                range_upper = length)\n",
    "\n",
    "coverage_data = dict()\n",
    "\n",
    "length_list = list( range(15,45, 5) )\n",
    "\n",
    "for i in length_list:\n",
    "    coverage_data[i] = get_coverage_at_length(\n",
    "                          ribo_object, \"appris_reads\", i)\n"
   ]
  },
  {
   "cell_type": "code",
   "execution_count": 7,
   "metadata": {},
   "outputs": [
    {
     "data": {
      "text/plain": [
       "[15, 20, 25, 30, 35, 40]"
      ]
     },
     "execution_count": 7,
     "metadata": {},
     "output_type": "execute_result"
    }
   ],
   "source": [
    "length_list"
   ]
  },
  {
   "cell_type": "code",
   "execution_count": 8,
   "metadata": {},
   "outputs": [
    {
     "data": {
      "text/plain": [
       "21569"
      ]
     },
     "execution_count": 8,
     "metadata": {},
     "output_type": "execute_result"
    }
   ],
   "source": [
    "len(coverage_data[30])"
   ]
  },
  {
   "cell_type": "code",
   "execution_count": 9,
   "metadata": {},
   "outputs": [],
   "source": [
    "# Get the shortened version of the transcript names\n",
    "#\n",
    "ribo_object.transcript_lengths\n",
    "\n",
    "transcript_lengths = {}\n",
    "\n",
    "for long_name in ribo_object.transcript_lengths.keys():\n",
    "    short_name = ribopy.api.alias.apris_human_alias(long_name)\n",
    "    transcript_lengths[short_name] = ribo_object.transcript_lengths[long_name]\n"
   ]
  },
  {
   "cell_type": "code",
   "execution_count": 10,
   "metadata": {},
   "outputs": [],
   "source": [
    "def find_coverage_percentages(coverage_dict):\n",
    "    \"\"\"\n",
    "    Assumes each entry in the coverage is 0 or 1.\n",
    "    It determines the raio of covered nucleotides in each transcript\n",
    "    So it returns a dict of the form:\n",
    "        \n",
    "    \"\"\"\n",
    "    result = dict()\n",
    "    \n",
    "    for gene, coverage in coverage_dict.items():\n",
    "        result[gene] = np.mean(coverage)\n",
    "        \n",
    "    return result\n",
    "        "
   ]
  },
  {
   "cell_type": "code",
   "execution_count": 11,
   "metadata": {},
   "outputs": [],
   "source": [
    "coverage_ratios     = dict()\n",
    "for i in length_list:\n",
    "    coverage_ratios[i] = find_coverage_percentages(coverage_data[i])"
   ]
  },
  {
   "cell_type": "markdown",
   "metadata": {},
   "source": [
    "### Transcript Coverage Ratios Density for Length 30"
   ]
  },
  {
   "cell_type": "code",
   "execution_count": 12,
   "metadata": {},
   "outputs": [
    {
     "data": {
      "image/png": "[encoded data removed]",
      "text/plain": [
       "<Figure size 432x288 with 1 Axes>"
      ]
     },
     "metadata": {
      "needs_background": "light"
     },
     "output_type": "display_data"
    }
   ],
   "source": [
    "pd.DataFrame(  (np.add(list(coverage_ratios[30].values()), 0.0) ) ).plot(kind='density');"
   ]
  },
  {
   "cell_type": "code",
   "execution_count": 13,
   "metadata": {},
   "outputs": [
    {
     "data": {
      "image/png": "[encoded data removed]",
      "text/plain": [
       "<Figure size 1440x720 with 1 Axes>"
      ]
     },
     "metadata": {
      "needs_background": "light"
     },
     "output_type": "display_data"
    }
   ],
   "source": [
    "fig, ax = plt.subplots(figsize=(20, 10))\n",
    "\n",
    "n, bins, patches = ax.hist(coverage_ratios[30].values(), bins = 70, density=False, histtype='step',\n",
    "                           cumulative=True, label='Empirical')\n",
    "\n",
    "ax.grid(True)"
   ]
  },
  {
   "cell_type": "code",
   "execution_count": 14,
   "metadata": {},
   "outputs": [],
   "source": [
    "region_boundaries = get_region_boundaries(ribo_object._handle)\n",
    "reference_names   = list(map(ribopy.api.alias.apris_human_alias , get_reference_names(ribo_object._handle) ))"
   ]
  },
  {
   "cell_type": "code",
   "execution_count": 15,
   "metadata": {},
   "outputs": [
    {
     "data": {
      "text/plain": [
       "([(0, 226), (226, 3886), (3886, 9749)],\n",
       " [(0, 333), (333, 1821), (1821, 3779)],\n",
       " [(0, 97), (97, 2140), (2140, 2553)],\n",
       " [(0, 447), (447, 945), (945, 4193)],\n",
       " [(0, 155), (155, 1226), (1226, 1425)])"
      ]
     },
     "execution_count": 15,
     "metadata": {},
     "output_type": "execute_result"
    }
   ],
   "source": [
    "region_boundaries[20:25]"
   ]
  },
  {
   "cell_type": "code",
   "execution_count": 16,
   "metadata": {},
   "outputs": [
    {
     "data": {
      "text/plain": [
       "['Arfrp1-203', 'Zgpat-201', 'Lime1-201', 'Zbtb46-201', 'Abhd16b-201']"
      ]
     },
     "execution_count": 16,
     "metadata": {},
     "output_type": "execute_result"
    }
   ],
   "source": [
    "reference_names[3000:3005]"
   ]
  },
  {
   "cell_type": "code",
   "execution_count": 17,
   "metadata": {},
   "outputs": [],
   "source": [
    "def get_cds_coverage_ratios(reference_names, region_boundaries, coverage_data):\n",
    "    \"\"\"\n",
    "    To be completed!!!\n",
    "    \"\"\"\n",
    "    result               = dict()\n",
    "    names_and_boundaries = zip(reference_names, region_boundaries)\n",
    "    \n",
    "    for gene, boundaries in names_and_boundaries:\n",
    "        gene_coverage_vector = coverage_data[gene]\n",
    "        cds_start            = boundaries[1][0]\n",
    "        cds_end              = boundaries[1][1]\n",
    "        cds_length           = cds_end - cds_start\n",
    "        total_cds_coverage   = np.sum(gene_coverage_vector[cds_start:cds_end]) \n",
    "        cds_coverage_ratio   = total_cds_coverage / cds_length\n",
    "        result[gene]         = cds_coverage_ratio\n",
    "        \n",
    "    return result"
   ]
  },
  {
   "cell_type": "code",
   "execution_count": 18,
   "metadata": {
    "code_folding": []
   },
   "outputs": [],
   "source": [
    "cds_ratios = dict()\n",
    "\n",
    "for i in length_list:\n",
    "    cds_ratios[i] = get_cds_coverage_ratios(reference_names, \n",
    "                        region_boundaries, \n",
    "                        coverage_data[i])"
   ]
  },
  {
   "cell_type": "code",
   "execution_count": null,
   "metadata": {},
   "outputs": [],
   "source": []
  },
  {
   "cell_type": "code",
   "execution_count": 19,
   "metadata": {},
   "outputs": [
    {
     "data": {
      "text/plain": [
       "Text(0, 0.5, 'Number of genes with ratio <= x ')"
      ]
     },
     "execution_count": 19,
     "metadata": {},
     "output_type": "execute_result"
    },
    {
     "data": {
      "image/png": "[encoded data removed]",
      "text/plain": [
       "<Figure size 1440x720 with 1 Axes>"
      ]
     },
     "metadata": {
      "needs_background": "light"
     },
     "output_type": "display_data"
    }
   ],
   "source": [
    "fig, ax = plt.subplots(figsize=(20, 10))\n",
    "\n",
    "ax.set_title('Cumulative CDS Ratios Length = 20')\n",
    "\n",
    "n, bins, patches = ax.hist(cds_ratios[20].values(), \n",
    "                           bins       = 100, \n",
    "                           density    = False, \n",
    "                           histtype   = 'step',\n",
    "                           cumulative = True, \n",
    "                           label      = 'Empirical')\n",
    "ax.grid(True)\n",
    "\n",
    "ax.set_xlabel('CDS coverage ratio')\n",
    "ax.set_ylabel('Number of genes with ratio <= x ')"
   ]
  },
  {
   "cell_type": "code",
   "execution_count": 20,
   "metadata": {},
   "outputs": [
    {
     "data": {
      "text/plain": [
       "Text(0, 0.5, 'Number of genes with ratio <= x ')"
      ]
     },
     "execution_count": 20,
     "metadata": {},
     "output_type": "execute_result"
    },
    {
     "data": {
      "image/png": "[encoded data removed]",
      "text/plain": [
       "<Figure size 1440x720 with 1 Axes>"
      ]
     },
     "metadata": {
      "needs_background": "light"
     },
     "output_type": "display_data"
    }
   ],
   "source": [
    "fig, ax = plt.subplots(figsize=(20, 10))\n",
    "\n",
    "ax.set_title('Cumulative CDS Ratios Length = 30')\n",
    "\n",
    "n, bins, patches = ax.hist(cds_ratios[30].values(), \n",
    "                           bins       = 100, \n",
    "                           density    = False, \n",
    "                           histtype   = 'step',\n",
    "                           cumulative = True, \n",
    "                           label      = 'Empirical')\n",
    "ax.grid(True)\n",
    "\n",
    "ax.set_xlabel('CDS coverage ratio')\n",
    "ax.set_ylabel('Number of genes with ratio <= x ')"
   ]
  },
  {
   "cell_type": "code",
   "execution_count": 21,
   "metadata": {},
   "outputs": [],
   "source": [
    "def count_threshold(array, threshold):\n",
    "    res = 0\n",
    "    \n",
    "    for i in array:\n",
    "        if i >= threshold:\n",
    "            res += 1\n",
    "            \n",
    "    return res"
   ]
  },
  {
   "cell_type": "code",
   "execution_count": 22,
   "metadata": {},
   "outputs": [],
   "source": [
    "thresholds = [np.round(0.05 * i, decimals = 2) for i in range(21)]"
   ]
  },
  {
   "cell_type": "code",
   "execution_count": 23,
   "metadata": {},
   "outputs": [
    {
     "data": {
      "text/plain": [
       "numpy.float64"
      ]
     },
     "execution_count": 23,
     "metadata": {},
     "output_type": "execute_result"
    }
   ],
   "source": [
    "type(thresholds[0])"
   ]
  },
  {
   "cell_type": "code",
   "execution_count": 24,
   "metadata": {},
   "outputs": [],
   "source": [
    "ratio_threshold_counts = dict()\n",
    "\n",
    "ratio_threshold_counts[\"threshold\"] = thresholds\n",
    "\n",
    "for k in length_list:\n",
    "    ratio_threshold_counts[str(k)] = \\\n",
    "        [ count_threshold(cds_ratios[k].values(), i) for i in thresholds ]\n"
   ]
  },
  {
   "cell_type": "markdown",
   "metadata": {},
   "source": [
    " ## CDS Coverage\n",
    " \n",
    "The numbers 15, 20, 25, 30, 35 indicate the read lengths\n",
    "Except for the \"threshold column\", the number of genes\n",
    "whose cds coverage ratio is >= threshold is given in each entry."
   ]
  },
  {
   "cell_type": "code",
   "execution_count": 25,
   "metadata": {},
   "outputs": [
    {
     "data": {
      "text/html": [
       "<div>\n",
       "<style scoped>\n",
       "    .dataframe tbody tr th:only-of-type {\n",
       "        vertical-align: middle;\n",
       "    }\n",
       "\n",
       "    .dataframe tbody tr th {\n",
       "        vertical-align: top;\n",
       "    }\n",
       "\n",
       "    .dataframe thead th {\n",
       "        text-align: right;\n",
       "    }\n",
       "</style>\n",
       "<table border=\"1\" class=\"dataframe\">\n",
       "  <thead>\n",
       "    <tr style=\"text-align: right;\">\n",
       "      <th></th>\n",
       "      <th>threshold</th>\n",
       "      <th>15</th>\n",
       "      <th>20</th>\n",
       "      <th>25</th>\n",
       "      <th>30</th>\n",
       "      <th>35</th>\n",
       "      <th>40</th>\n",
       "    </tr>\n",
       "  </thead>\n",
       "  <tbody>\n",
       "    <tr>\n",
       "      <th>0</th>\n",
       "      <td>0.00</td>\n",
       "      <td>21569</td>\n",
       "      <td>21569</td>\n",
       "      <td>21569</td>\n",
       "      <td>21569</td>\n",
       "      <td>21569</td>\n",
       "      <td>21569</td>\n",
       "    </tr>\n",
       "    <tr>\n",
       "      <th>1</th>\n",
       "      <td>0.05</td>\n",
       "      <td>20375</td>\n",
       "      <td>20571</td>\n",
       "      <td>20650</td>\n",
       "      <td>20719</td>\n",
       "      <td>20777</td>\n",
       "      <td>20820</td>\n",
       "    </tr>\n",
       "    <tr>\n",
       "      <th>2</th>\n",
       "      <td>0.10</td>\n",
       "      <td>20086</td>\n",
       "      <td>20297</td>\n",
       "      <td>20377</td>\n",
       "      <td>20464</td>\n",
       "      <td>20538</td>\n",
       "      <td>20579</td>\n",
       "    </tr>\n",
       "    <tr>\n",
       "      <th>3</th>\n",
       "      <td>0.15</td>\n",
       "      <td>19804</td>\n",
       "      <td>20125</td>\n",
       "      <td>20229</td>\n",
       "      <td>20296</td>\n",
       "      <td>20363</td>\n",
       "      <td>20408</td>\n",
       "    </tr>\n",
       "    <tr>\n",
       "      <th>4</th>\n",
       "      <td>0.20</td>\n",
       "      <td>19550</td>\n",
       "      <td>19939</td>\n",
       "      <td>20086</td>\n",
       "      <td>20177</td>\n",
       "      <td>20245</td>\n",
       "      <td>20295</td>\n",
       "    </tr>\n",
       "    <tr>\n",
       "      <th>5</th>\n",
       "      <td>0.25</td>\n",
       "      <td>19284</td>\n",
       "      <td>19756</td>\n",
       "      <td>19932</td>\n",
       "      <td>20063</td>\n",
       "      <td>20136</td>\n",
       "      <td>20187</td>\n",
       "    </tr>\n",
       "    <tr>\n",
       "      <th>6</th>\n",
       "      <td>0.30</td>\n",
       "      <td>19028</td>\n",
       "      <td>19568</td>\n",
       "      <td>19775</td>\n",
       "      <td>19921</td>\n",
       "      <td>20017</td>\n",
       "      <td>20093</td>\n",
       "    </tr>\n",
       "    <tr>\n",
       "      <th>7</th>\n",
       "      <td>0.35</td>\n",
       "      <td>18790</td>\n",
       "      <td>19399</td>\n",
       "      <td>19625</td>\n",
       "      <td>19778</td>\n",
       "      <td>19905</td>\n",
       "      <td>19976</td>\n",
       "    </tr>\n",
       "    <tr>\n",
       "      <th>8</th>\n",
       "      <td>0.40</td>\n",
       "      <td>18563</td>\n",
       "      <td>19205</td>\n",
       "      <td>19453</td>\n",
       "      <td>19638</td>\n",
       "      <td>19765</td>\n",
       "      <td>19882</td>\n",
       "    </tr>\n",
       "    <tr>\n",
       "      <th>9</th>\n",
       "      <td>0.45</td>\n",
       "      <td>18336</td>\n",
       "      <td>19012</td>\n",
       "      <td>19287</td>\n",
       "      <td>19467</td>\n",
       "      <td>19620</td>\n",
       "      <td>19746</td>\n",
       "    </tr>\n",
       "    <tr>\n",
       "      <th>10</th>\n",
       "      <td>0.50</td>\n",
       "      <td>18132</td>\n",
       "      <td>18839</td>\n",
       "      <td>19094</td>\n",
       "      <td>19313</td>\n",
       "      <td>19467</td>\n",
       "      <td>19597</td>\n",
       "    </tr>\n",
       "    <tr>\n",
       "      <th>11</th>\n",
       "      <td>0.55</td>\n",
       "      <td>17921</td>\n",
       "      <td>18662</td>\n",
       "      <td>18941</td>\n",
       "      <td>19134</td>\n",
       "      <td>19309</td>\n",
       "      <td>19453</td>\n",
       "    </tr>\n",
       "    <tr>\n",
       "      <th>12</th>\n",
       "      <td>0.60</td>\n",
       "      <td>17721</td>\n",
       "      <td>18468</td>\n",
       "      <td>18772</td>\n",
       "      <td>18985</td>\n",
       "      <td>19165</td>\n",
       "      <td>19307</td>\n",
       "    </tr>\n",
       "    <tr>\n",
       "      <th>13</th>\n",
       "      <td>0.65</td>\n",
       "      <td>17452</td>\n",
       "      <td>18256</td>\n",
       "      <td>18575</td>\n",
       "      <td>18790</td>\n",
       "      <td>18988</td>\n",
       "      <td>19147</td>\n",
       "    </tr>\n",
       "    <tr>\n",
       "      <th>14</th>\n",
       "      <td>0.70</td>\n",
       "      <td>17088</td>\n",
       "      <td>18092</td>\n",
       "      <td>18356</td>\n",
       "      <td>18607</td>\n",
       "      <td>18786</td>\n",
       "      <td>18953</td>\n",
       "    </tr>\n",
       "    <tr>\n",
       "      <th>15</th>\n",
       "      <td>0.75</td>\n",
       "      <td>16333</td>\n",
       "      <td>17920</td>\n",
       "      <td>18159</td>\n",
       "      <td>18387</td>\n",
       "      <td>18583</td>\n",
       "      <td>18744</td>\n",
       "    </tr>\n",
       "    <tr>\n",
       "      <th>16</th>\n",
       "      <td>0.80</td>\n",
       "      <td>13098</td>\n",
       "      <td>17730</td>\n",
       "      <td>17976</td>\n",
       "      <td>18173</td>\n",
       "      <td>18361</td>\n",
       "      <td>18531</td>\n",
       "    </tr>\n",
       "    <tr>\n",
       "      <th>17</th>\n",
       "      <td>0.85</td>\n",
       "      <td>4057</td>\n",
       "      <td>17528</td>\n",
       "      <td>17746</td>\n",
       "      <td>17923</td>\n",
       "      <td>18108</td>\n",
       "      <td>18271</td>\n",
       "    </tr>\n",
       "    <tr>\n",
       "      <th>18</th>\n",
       "      <td>0.90</td>\n",
       "      <td>139</td>\n",
       "      <td>17227</td>\n",
       "      <td>17521</td>\n",
       "      <td>17675</td>\n",
       "      <td>17830</td>\n",
       "      <td>17948</td>\n",
       "    </tr>\n",
       "    <tr>\n",
       "      <th>19</th>\n",
       "      <td>0.95</td>\n",
       "      <td>3</td>\n",
       "      <td>16653</td>\n",
       "      <td>17110</td>\n",
       "      <td>17314</td>\n",
       "      <td>17456</td>\n",
       "      <td>17567</td>\n",
       "    </tr>\n",
       "    <tr>\n",
       "      <th>20</th>\n",
       "      <td>1.00</td>\n",
       "      <td>0</td>\n",
       "      <td>6601</td>\n",
       "      <td>13467</td>\n",
       "      <td>15089</td>\n",
       "      <td>15789</td>\n",
       "      <td>16181</td>\n",
       "    </tr>\n",
       "  </tbody>\n",
       "</table>\n",
       "</div>"
      ],
      "text/plain": [
       "    threshold     15     20     25     30     35     40\n",
       "0        0.00  21569  21569  21569  21569  21569  21569\n",
       "1        0.05  20375  20571  20650  20719  20777  20820\n",
       "2        0.10  20086  20297  20377  20464  20538  20579\n",
       "3        0.15  19804  20125  20229  20296  20363  20408\n",
       "4        0.20  19550  19939  20086  20177  20245  20295\n",
       "5        0.25  19284  19756  19932  20063  20136  20187\n",
       "6        0.30  19028  19568  19775  19921  20017  20093\n",
       "7        0.35  18790  19399  19625  19778  19905  19976\n",
       "8        0.40  18563  19205  19453  19638  19765  19882\n",
       "9        0.45  18336  19012  19287  19467  19620  19746\n",
       "10       0.50  18132  18839  19094  19313  19467  19597\n",
       "11       0.55  17921  18662  18941  19134  19309  19453\n",
       "12       0.60  17721  18468  18772  18985  19165  19307\n",
       "13       0.65  17452  18256  18575  18790  18988  19147\n",
       "14       0.70  17088  18092  18356  18607  18786  18953\n",
       "15       0.75  16333  17920  18159  18387  18583  18744\n",
       "16       0.80  13098  17730  17976  18173  18361  18531\n",
       "17       0.85   4057  17528  17746  17923  18108  18271\n",
       "18       0.90    139  17227  17521  17675  17830  17948\n",
       "19       0.95      3  16653  17110  17314  17456  17567\n",
       "20       1.00      0   6601  13467  15089  15789  16181"
      ]
     },
     "execution_count": 25,
     "metadata": {},
     "output_type": "execute_result"
    }
   ],
   "source": [
    "pd.DataFrame(data = ratio_threshold_counts)"
   ]
  }
 ],
 "metadata": {
  "kernelspec": {
   "display_name": "Python 3",
   "language": "python",
   "name": "python3"
  },
  "language_info": {
   "codemirror_mode": {
    "name": "ipython",
    "version": 3
   },
   "file_extension": ".py",
   "mimetype": "text/x-python",
   "name": "python",
   "nbconvert_exporter": "python",
   "pygments_lexer": "ipython3",
   "version": "3.6.11"
  }
 },
 "nbformat": 4,
 "nbformat_minor": 4
}
